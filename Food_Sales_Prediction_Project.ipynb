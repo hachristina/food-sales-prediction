{
  "nbformat": 4,
  "nbformat_minor": 0,
  "metadata": {
    "colab": {
      "name": "Food Sales Prediction Project",
      "provenance": [],
      "mount_file_id": "https://github.com/hachristina/food-sales-prediction/blob/main/Food_Sales_Prediction_Project.ipynb",
      "authorship_tag": "ABX9TyPZdz34qp+ssD54BuCdPo8b",
      "include_colab_link": true
    },
    "kernelspec": {
      "name": "python3",
      "display_name": "Python 3"
    },
    "language_info": {
      "name": "python"
    }
  },
  "cells": [
    {
      "cell_type": "markdown",
      "metadata": {
        "id": "view-in-github",
        "colab_type": "text"
      },
      "source": [
        "<a href=\"https://colab.research.google.com/github/hachristina/food-sales-prediction/blob/main/Food_Sales_Prediction_Project.ipynb\" target=\"_parent\"><img src=\"https://colab.research.google.com/assets/colab-badge.svg\" alt=\"Open In Colab\"/></a>"
      ]
    },
    {
      "cell_type": "code",
      "metadata": {
        "colab": {
          "base_uri": "https://localhost:8080/"
        },
        "id": "DUyLe7NedNX1",
        "outputId": "477dfbdb-cd14-4e65-e6ae-53ed6d0f0b65"
      },
      "source": [
        "from google.colab import drive\n",
        "drive.mount('/content/drive')"
      ],
      "execution_count": 1,
      "outputs": [
        {
          "output_type": "stream",
          "name": "stdout",
          "text": [
            "Drive already mounted at /content/drive; to attempt to forcibly remount, call drive.mount(\"/content/drive\", force_remount=True).\n"
          ]
        }
      ]
    },
    {
      "cell_type": "markdown",
      "metadata": {
        "id": "gAyDNM1JVBgu"
      },
      "source": [
        "#Part 1: Set up "
      ]
    },
    {
      "cell_type": "code",
      "metadata": {
        "colab": {
          "base_uri": "https://localhost:8080/",
          "height": 0
        },
        "id": "eWfB9WLpbura",
        "outputId": "f3900e96-0602-42ae-ace1-5db851de3d03"
      },
      "source": [
        "import pandas as pd\n",
        "import matplotlib.pyplot as plt\n",
        "import seaborn as sns\n",
        "import numpy as np\n",
        "from sklearn.model_selection import train_test_split\n",
        "from sklearn.linear_model import LinearRegression\n",
        "from sklearn.metrics import mean_squared_error\n",
        "from sklearn.metrics import r2_score\n",
        "from sklearn.tree import DecisionTreeRegressor\n",
        "from sklearn.ensemble import BaggingRegressor\n",
        "from sklearn.ensemble import RandomForestRegressor\n",
        "\n",
        "df = pd.read_csv('/content/drive/MyDrive/Data Science Bootcamp/Project 1: Food Sales Prediction/sales_predictions.csv')\n",
        "\n",
        "df.head()"
      ],
      "execution_count": 2,
      "outputs": [
        {
          "output_type": "execute_result",
          "data": {
            "text/html": [
              "<div>\n",
              "<style scoped>\n",
              "    .dataframe tbody tr th:only-of-type {\n",
              "        vertical-align: middle;\n",
              "    }\n",
              "\n",
              "    .dataframe tbody tr th {\n",
              "        vertical-align: top;\n",
              "    }\n",
              "\n",
              "    .dataframe thead th {\n",
              "        text-align: right;\n",
              "    }\n",
              "</style>\n",
              "<table border=\"1\" class=\"dataframe\">\n",
              "  <thead>\n",
              "    <tr style=\"text-align: right;\">\n",
              "      <th></th>\n",
              "      <th>Item_Identifier</th>\n",
              "      <th>Item_Weight</th>\n",
              "      <th>Item_Fat_Content</th>\n",
              "      <th>Item_Visibility</th>\n",
              "      <th>Item_Type</th>\n",
              "      <th>Item_MRP</th>\n",
              "      <th>Outlet_Identifier</th>\n",
              "      <th>Outlet_Establishment_Year</th>\n",
              "      <th>Outlet_Size</th>\n",
              "      <th>Outlet_Location_Type</th>\n",
              "      <th>Outlet_Type</th>\n",
              "      <th>Item_Outlet_Sales</th>\n",
              "    </tr>\n",
              "  </thead>\n",
              "  <tbody>\n",
              "    <tr>\n",
              "      <th>0</th>\n",
              "      <td>FDA15</td>\n",
              "      <td>9.30</td>\n",
              "      <td>Low Fat</td>\n",
              "      <td>0.016047</td>\n",
              "      <td>Dairy</td>\n",
              "      <td>249.8092</td>\n",
              "      <td>OUT049</td>\n",
              "      <td>1999</td>\n",
              "      <td>Medium</td>\n",
              "      <td>Tier 1</td>\n",
              "      <td>Supermarket Type1</td>\n",
              "      <td>3735.1380</td>\n",
              "    </tr>\n",
              "    <tr>\n",
              "      <th>1</th>\n",
              "      <td>DRC01</td>\n",
              "      <td>5.92</td>\n",
              "      <td>Regular</td>\n",
              "      <td>0.019278</td>\n",
              "      <td>Soft Drinks</td>\n",
              "      <td>48.2692</td>\n",
              "      <td>OUT018</td>\n",
              "      <td>2009</td>\n",
              "      <td>Medium</td>\n",
              "      <td>Tier 3</td>\n",
              "      <td>Supermarket Type2</td>\n",
              "      <td>443.4228</td>\n",
              "    </tr>\n",
              "    <tr>\n",
              "      <th>2</th>\n",
              "      <td>FDN15</td>\n",
              "      <td>17.50</td>\n",
              "      <td>Low Fat</td>\n",
              "      <td>0.016760</td>\n",
              "      <td>Meat</td>\n",
              "      <td>141.6180</td>\n",
              "      <td>OUT049</td>\n",
              "      <td>1999</td>\n",
              "      <td>Medium</td>\n",
              "      <td>Tier 1</td>\n",
              "      <td>Supermarket Type1</td>\n",
              "      <td>2097.2700</td>\n",
              "    </tr>\n",
              "    <tr>\n",
              "      <th>3</th>\n",
              "      <td>FDX07</td>\n",
              "      <td>19.20</td>\n",
              "      <td>Regular</td>\n",
              "      <td>0.000000</td>\n",
              "      <td>Fruits and Vegetables</td>\n",
              "      <td>182.0950</td>\n",
              "      <td>OUT010</td>\n",
              "      <td>1998</td>\n",
              "      <td>NaN</td>\n",
              "      <td>Tier 3</td>\n",
              "      <td>Grocery Store</td>\n",
              "      <td>732.3800</td>\n",
              "    </tr>\n",
              "    <tr>\n",
              "      <th>4</th>\n",
              "      <td>NCD19</td>\n",
              "      <td>8.93</td>\n",
              "      <td>Low Fat</td>\n",
              "      <td>0.000000</td>\n",
              "      <td>Household</td>\n",
              "      <td>53.8614</td>\n",
              "      <td>OUT013</td>\n",
              "      <td>1987</td>\n",
              "      <td>High</td>\n",
              "      <td>Tier 3</td>\n",
              "      <td>Supermarket Type1</td>\n",
              "      <td>994.7052</td>\n",
              "    </tr>\n",
              "  </tbody>\n",
              "</table>\n",
              "</div>"
            ],
            "text/plain": [
              "  Item_Identifier  Item_Weight  ...        Outlet_Type  Item_Outlet_Sales\n",
              "0           FDA15         9.30  ...  Supermarket Type1          3735.1380\n",
              "1           DRC01         5.92  ...  Supermarket Type2           443.4228\n",
              "2           FDN15        17.50  ...  Supermarket Type1          2097.2700\n",
              "3           FDX07        19.20  ...      Grocery Store           732.3800\n",
              "4           NCD19         8.93  ...  Supermarket Type1           994.7052\n",
              "\n",
              "[5 rows x 12 columns]"
            ]
          },
          "metadata": {},
          "execution_count": 2
        }
      ]
    },
    {
      "cell_type": "markdown",
      "metadata": {
        "id": "iibqHK4evePk"
      },
      "source": [
        "#Part 2: Cleaning\n",
        "\n",
        "For Part 2, your task is to  use Pandas to start cleaning and exploring the data. As data scientists, about 80% of our time is spent on data preparation - so this is a very important step! First, clone the GitHub repo you created to house your project so you are able to commit your work to this repository. See the video at the end of this assignment if you are unsure of how to do this.\n",
        "\n",
        "Your data should already be loaded into your notebook from part 1 of the project.\n",
        "Explore the data - what do you need to do to clean this data? Clean it!  \n",
        "Be sure to address each of the following 8 tasks"
      ]
    },
    {
      "cell_type": "code",
      "metadata": {
        "colab": {
          "base_uri": "https://localhost:8080/"
        },
        "id": "Kx86gcdkvfwz",
        "outputId": "773f2d4c-bd6f-4815-b096-731974a3ae18"
      },
      "source": [
        "#1) How many rows and columns?\n",
        "df.shape"
      ],
      "execution_count": 3,
      "outputs": [
        {
          "output_type": "execute_result",
          "data": {
            "text/plain": [
              "(8523, 12)"
            ]
          },
          "metadata": {},
          "execution_count": 3
        }
      ]
    },
    {
      "cell_type": "code",
      "metadata": {
        "colab": {
          "base_uri": "https://localhost:8080/"
        },
        "id": "OjW4L76pwjpG",
        "outputId": "35f627c3-c513-411c-ed3c-926df76f67dd"
      },
      "source": [
        "#2) What are the datatypes of each variable?\n",
        "df.dtypes"
      ],
      "execution_count": 4,
      "outputs": [
        {
          "output_type": "execute_result",
          "data": {
            "text/plain": [
              "Item_Identifier               object\n",
              "Item_Weight                  float64\n",
              "Item_Fat_Content              object\n",
              "Item_Visibility              float64\n",
              "Item_Type                     object\n",
              "Item_MRP                     float64\n",
              "Outlet_Identifier             object\n",
              "Outlet_Establishment_Year      int64\n",
              "Outlet_Size                   object\n",
              "Outlet_Location_Type          object\n",
              "Outlet_Type                   object\n",
              "Item_Outlet_Sales            float64\n",
              "dtype: object"
            ]
          },
          "metadata": {},
          "execution_count": 4
        }
      ]
    },
    {
      "cell_type": "code",
      "metadata": {
        "colab": {
          "base_uri": "https://localhost:8080/"
        },
        "id": "oPaZAdB7w1q4",
        "outputId": "40a36101-3f85-4112-c5bf-1e188082e6fc"
      },
      "source": [
        "#3) Are there duplicates? If so, drop any duplicates.\n",
        "df.duplicated().any()"
      ],
      "execution_count": 5,
      "outputs": [
        {
          "output_type": "execute_result",
          "data": {
            "text/plain": [
              "False"
            ]
          },
          "metadata": {},
          "execution_count": 5
        }
      ]
    },
    {
      "cell_type": "code",
      "metadata": {
        "colab": {
          "base_uri": "https://localhost:8080/"
        },
        "id": "3AvIdyvaxF-7",
        "outputId": "0ad8d885-0135-47fe-c059-9b12ce1a72ae"
      },
      "source": [
        "#4) Identify missing values.\n",
        "df.info()\n",
        "df.isnull().sum()"
      ],
      "execution_count": 6,
      "outputs": [
        {
          "output_type": "stream",
          "name": "stdout",
          "text": [
            "<class 'pandas.core.frame.DataFrame'>\n",
            "RangeIndex: 8523 entries, 0 to 8522\n",
            "Data columns (total 12 columns):\n",
            " #   Column                     Non-Null Count  Dtype  \n",
            "---  ------                     --------------  -----  \n",
            " 0   Item_Identifier            8523 non-null   object \n",
            " 1   Item_Weight                7060 non-null   float64\n",
            " 2   Item_Fat_Content           8523 non-null   object \n",
            " 3   Item_Visibility            8523 non-null   float64\n",
            " 4   Item_Type                  8523 non-null   object \n",
            " 5   Item_MRP                   8523 non-null   float64\n",
            " 6   Outlet_Identifier          8523 non-null   object \n",
            " 7   Outlet_Establishment_Year  8523 non-null   int64  \n",
            " 8   Outlet_Size                6113 non-null   object \n",
            " 9   Outlet_Location_Type       8523 non-null   object \n",
            " 10  Outlet_Type                8523 non-null   object \n",
            " 11  Item_Outlet_Sales          8523 non-null   float64\n",
            "dtypes: float64(4), int64(1), object(7)\n",
            "memory usage: 799.2+ KB\n"
          ]
        },
        {
          "output_type": "execute_result",
          "data": {
            "text/plain": [
              "Item_Identifier                 0\n",
              "Item_Weight                  1463\n",
              "Item_Fat_Content                0\n",
              "Item_Visibility                 0\n",
              "Item_Type                       0\n",
              "Item_MRP                        0\n",
              "Outlet_Identifier               0\n",
              "Outlet_Establishment_Year       0\n",
              "Outlet_Size                  2410\n",
              "Outlet_Location_Type            0\n",
              "Outlet_Type                     0\n",
              "Item_Outlet_Sales               0\n",
              "dtype: int64"
            ]
          },
          "metadata": {},
          "execution_count": 6
        }
      ]
    },
    {
      "cell_type": "code",
      "metadata": {
        "colab": {
          "base_uri": "https://localhost:8080/",
          "height": 0
        },
        "id": "vddNwP45WsqV",
        "outputId": "bc25463e-84b2-403b-a41e-cb9001aeef7c"
      },
      "source": [
        "#5) Decide on how to address the missing values and do it! (This requires your judgement, so explain your choice).\n",
        "#missing values in Item_Weight and Outlet_size\n",
        "\n",
        "#MISSING ITEM_WEIGHT\n",
        "null_item_weight = pd.isnull(df['Item_Weight'])\n",
        "null_item_weight_filter = df.loc[null_item_weight]\n",
        "null_item_weight_filter\n",
        "\n",
        "year_filter = df[\"Outlet_Establishment_Year\"] == 1985\n",
        "df[year_filter].describe()\n",
        "#the Item_Weight values are missing when Outlet_Establishment_Year == 1985 (1463 total missing weight values)\n",
        "\n",
        "df['Item_Identifier'].value_counts()\n",
        "\n",
        "#sorting the dataframe by Item Identifier and Outlet Establishment Year so we can grab the missing item weights from the nearby rows\n",
        "df.sort_values(by=['Item_Identifier', 'Outlet_Establishment_Year'], ascending=False, inplace=True)\n",
        "df.head(50)\n",
        "\n",
        "#filling in the missing values with the nearby row\n",
        "df.loc[:, 'Item_Weight'].fillna(method='ffill', inplace=True)\n",
        "\n",
        "\n",
        "#MISSING OUTLET SIZES\n",
        "\n",
        "df.loc[:, 'Outlet_Identifier'].value_counts()\n",
        "#OUT027 - Medium - Tier 3 - Supermarket Type 3\n",
        "#OUT013 - Large - Tier 3 - Supermarket Type 1\n",
        "#OUT049 - Medium - Tier 1 - Supermarket Type 1\n",
        "#OUT046 - Small - Tier I - Supermarket Type1\n",
        "#OUT035 - Small - Tier 2 - Supermarket Type1\n",
        "#OUT045 - NaN - Tier 2 - Supermarket Type 1\n",
        "#OUT018 - Medium - Tier 3 - Supermarket Type2\n",
        "#OUT017 - NaN  - Tier 2 - Supermarket Type 1\n",
        "#OUT010 - NaN - Tier 3 - Grocery Store\n",
        "#OUT019 - Small - Tier 1 - Grocery Store\n",
        "\n",
        "\n",
        "outlet_location_filter1 = df[\"Outlet_Location_Type\"] == \"Tier 1\"\n",
        "outlet_location_filter2 = df[\"Outlet_Location_Type\"] == \"Tier 2\"\n",
        "outlet_location_filter3 = df[\"Outlet_Location_Type\"] == \"Tier 3\"\n",
        "\n",
        "\n",
        "outlet_type_filter1 = df[\"Outlet_Type\"] == \"Supermarket Type1\"\n",
        "outlet_type_filter2 = df[\"Outlet_Type\"] == \"Supermarket Type2\"\n",
        "outlet_type_filter3 = df[\"Outlet_Type\"] == \"Supermarket Type3\"\n",
        "outlet_type_filter4 = df[\"Outlet_Type\"] == \"Grocery Store\"\n",
        "\n",
        "\n",
        "\n",
        "#Missing Outlet_Size for OUT045 and OUT017\n",
        "#turning these missing values into \"Small\" because the other Tier 2, Supermarket Type1 store is small. \n",
        "\n",
        "df.loc[outlet_location_filter2 & outlet_type_filter1 & (df['Outlet_Size'].isna()), 'Outlet_Size'] = 'Small'\n",
        "df[df['Outlet_Identifier'] == \"OUT045\"]\n",
        "\n",
        "#Missing Outlet_Size for OUT010\n",
        "#turning these missing values into \"Medium\" because the other Tier 3 stores are Medium\n",
        "df.loc[outlet_location_filter3 & outlet_type_filter4 & (df['Outlet_Size'].isna()), 'Outlet_Size'] = 'Medium'\n",
        "df[df['Outlet_Identifier'] == \"OUT010\"]\n"
      ],
      "execution_count": 7,
      "outputs": [
        {
          "output_type": "execute_result",
          "data": {
            "text/html": [
              "<div>\n",
              "<style scoped>\n",
              "    .dataframe tbody tr th:only-of-type {\n",
              "        vertical-align: middle;\n",
              "    }\n",
              "\n",
              "    .dataframe tbody tr th {\n",
              "        vertical-align: top;\n",
              "    }\n",
              "\n",
              "    .dataframe thead th {\n",
              "        text-align: right;\n",
              "    }\n",
              "</style>\n",
              "<table border=\"1\" class=\"dataframe\">\n",
              "  <thead>\n",
              "    <tr style=\"text-align: right;\">\n",
              "      <th></th>\n",
              "      <th>Item_Identifier</th>\n",
              "      <th>Item_Weight</th>\n",
              "      <th>Item_Fat_Content</th>\n",
              "      <th>Item_Visibility</th>\n",
              "      <th>Item_Type</th>\n",
              "      <th>Item_MRP</th>\n",
              "      <th>Outlet_Identifier</th>\n",
              "      <th>Outlet_Establishment_Year</th>\n",
              "      <th>Outlet_Size</th>\n",
              "      <th>Outlet_Location_Type</th>\n",
              "      <th>Outlet_Type</th>\n",
              "      <th>Item_Outlet_Sales</th>\n",
              "    </tr>\n",
              "  </thead>\n",
              "  <tbody>\n",
              "    <tr>\n",
              "      <th>214</th>\n",
              "      <td>NCZ54</td>\n",
              "      <td>14.650</td>\n",
              "      <td>Low Fat</td>\n",
              "      <td>0.000000</td>\n",
              "      <td>Household</td>\n",
              "      <td>161.5552</td>\n",
              "      <td>OUT010</td>\n",
              "      <td>1998</td>\n",
              "      <td>Medium</td>\n",
              "      <td>Tier 3</td>\n",
              "      <td>Grocery Store</td>\n",
              "      <td>324.9104</td>\n",
              "    </tr>\n",
              "    <tr>\n",
              "      <th>4924</th>\n",
              "      <td>NCZ53</td>\n",
              "      <td>9.600</td>\n",
              "      <td>Low Fat</td>\n",
              "      <td>0.040970</td>\n",
              "      <td>Health and Hygiene</td>\n",
              "      <td>188.7214</td>\n",
              "      <td>OUT010</td>\n",
              "      <td>1998</td>\n",
              "      <td>Medium</td>\n",
              "      <td>Tier 3</td>\n",
              "      <td>Grocery Store</td>\n",
              "      <td>376.8428</td>\n",
              "    </tr>\n",
              "    <tr>\n",
              "      <th>411</th>\n",
              "      <td>NCZ42</td>\n",
              "      <td>10.500</td>\n",
              "      <td>Low Fat</td>\n",
              "      <td>0.000000</td>\n",
              "      <td>Household</td>\n",
              "      <td>238.3248</td>\n",
              "      <td>OUT010</td>\n",
              "      <td>1998</td>\n",
              "      <td>Medium</td>\n",
              "      <td>Tier 3</td>\n",
              "      <td>Grocery Store</td>\n",
              "      <td>711.0744</td>\n",
              "    </tr>\n",
              "    <tr>\n",
              "      <th>1224</th>\n",
              "      <td>NCZ30</td>\n",
              "      <td>6.590</td>\n",
              "      <td>Low Fat</td>\n",
              "      <td>0.043828</td>\n",
              "      <td>Household</td>\n",
              "      <td>121.4098</td>\n",
              "      <td>OUT010</td>\n",
              "      <td>1998</td>\n",
              "      <td>Medium</td>\n",
              "      <td>Tier 3</td>\n",
              "      <td>Grocery Store</td>\n",
              "      <td>241.0196</td>\n",
              "    </tr>\n",
              "    <tr>\n",
              "      <th>8054</th>\n",
              "      <td>NCZ29</td>\n",
              "      <td>15.000</td>\n",
              "      <td>Low Fat</td>\n",
              "      <td>0.119461</td>\n",
              "      <td>Health and Hygiene</td>\n",
              "      <td>126.3362</td>\n",
              "      <td>OUT010</td>\n",
              "      <td>1998</td>\n",
              "      <td>Medium</td>\n",
              "      <td>Tier 3</td>\n",
              "      <td>Grocery Store</td>\n",
              "      <td>503.3448</td>\n",
              "    </tr>\n",
              "    <tr>\n",
              "      <th>...</th>\n",
              "      <td>...</td>\n",
              "      <td>...</td>\n",
              "      <td>...</td>\n",
              "      <td>...</td>\n",
              "      <td>...</td>\n",
              "      <td>...</td>\n",
              "      <td>...</td>\n",
              "      <td>...</td>\n",
              "      <td>...</td>\n",
              "      <td>...</td>\n",
              "      <td>...</td>\n",
              "      <td>...</td>\n",
              "    </tr>\n",
              "    <tr>\n",
              "      <th>8063</th>\n",
              "      <td>DRB25</td>\n",
              "      <td>12.300</td>\n",
              "      <td>Low Fat</td>\n",
              "      <td>0.116261</td>\n",
              "      <td>Soft Drinks</td>\n",
              "      <td>107.0938</td>\n",
              "      <td>OUT010</td>\n",
              "      <td>1998</td>\n",
              "      <td>Medium</td>\n",
              "      <td>Tier 3</td>\n",
              "      <td>Grocery Store</td>\n",
              "      <td>214.3876</td>\n",
              "    </tr>\n",
              "    <tr>\n",
              "      <th>2479</th>\n",
              "      <td>DRB13</td>\n",
              "      <td>6.115</td>\n",
              "      <td>Regular</td>\n",
              "      <td>0.011791</td>\n",
              "      <td>Soft Drinks</td>\n",
              "      <td>189.0530</td>\n",
              "      <td>OUT010</td>\n",
              "      <td>1998</td>\n",
              "      <td>Medium</td>\n",
              "      <td>Tier 3</td>\n",
              "      <td>Grocery Store</td>\n",
              "      <td>948.7650</td>\n",
              "    </tr>\n",
              "    <tr>\n",
              "      <th>8371</th>\n",
              "      <td>DRA59</td>\n",
              "      <td>8.270</td>\n",
              "      <td>Regular</td>\n",
              "      <td>0.214125</td>\n",
              "      <td>Soft Drinks</td>\n",
              "      <td>183.9924</td>\n",
              "      <td>OUT010</td>\n",
              "      <td>1998</td>\n",
              "      <td>Medium</td>\n",
              "      <td>Tier 3</td>\n",
              "      <td>Grocery Store</td>\n",
              "      <td>185.0924</td>\n",
              "    </tr>\n",
              "    <tr>\n",
              "      <th>4130</th>\n",
              "      <td>DRA24</td>\n",
              "      <td>19.350</td>\n",
              "      <td>Regular</td>\n",
              "      <td>0.066832</td>\n",
              "      <td>Soft Drinks</td>\n",
              "      <td>163.8868</td>\n",
              "      <td>OUT010</td>\n",
              "      <td>1998</td>\n",
              "      <td>Medium</td>\n",
              "      <td>Tier 3</td>\n",
              "      <td>Grocery Store</td>\n",
              "      <td>327.5736</td>\n",
              "    </tr>\n",
              "    <tr>\n",
              "      <th>8043</th>\n",
              "      <td>DRA12</td>\n",
              "      <td>11.600</td>\n",
              "      <td>Low Fat</td>\n",
              "      <td>0.068535</td>\n",
              "      <td>Soft Drinks</td>\n",
              "      <td>143.0154</td>\n",
              "      <td>OUT010</td>\n",
              "      <td>1998</td>\n",
              "      <td>Medium</td>\n",
              "      <td>Tier 3</td>\n",
              "      <td>Grocery Store</td>\n",
              "      <td>283.6308</td>\n",
              "    </tr>\n",
              "  </tbody>\n",
              "</table>\n",
              "<p>555 rows × 12 columns</p>\n",
              "</div>"
            ],
            "text/plain": [
              "     Item_Identifier  Item_Weight  ...    Outlet_Type  Item_Outlet_Sales\n",
              "214            NCZ54       14.650  ...  Grocery Store           324.9104\n",
              "4924           NCZ53        9.600  ...  Grocery Store           376.8428\n",
              "411            NCZ42       10.500  ...  Grocery Store           711.0744\n",
              "1224           NCZ30        6.590  ...  Grocery Store           241.0196\n",
              "8054           NCZ29       15.000  ...  Grocery Store           503.3448\n",
              "...              ...          ...  ...            ...                ...\n",
              "8063           DRB25       12.300  ...  Grocery Store           214.3876\n",
              "2479           DRB13        6.115  ...  Grocery Store           948.7650\n",
              "8371           DRA59        8.270  ...  Grocery Store           185.0924\n",
              "4130           DRA24       19.350  ...  Grocery Store           327.5736\n",
              "8043           DRA12       11.600  ...  Grocery Store           283.6308\n",
              "\n",
              "[555 rows x 12 columns]"
            ]
          },
          "metadata": {},
          "execution_count": 7
        }
      ]
    },
    {
      "cell_type": "code",
      "metadata": {
        "colab": {
          "base_uri": "https://localhost:8080/"
        },
        "id": "WhU6AwCp0NZU",
        "outputId": "024cb3cb-8c94-4854-e4b6-53127c181927"
      },
      "source": [
        "#6) Confirm that there are no missing values after addressing them.\n",
        "df.isnull().sum()"
      ],
      "execution_count": 8,
      "outputs": [
        {
          "output_type": "execute_result",
          "data": {
            "text/plain": [
              "Item_Identifier              0\n",
              "Item_Weight                  0\n",
              "Item_Fat_Content             0\n",
              "Item_Visibility              0\n",
              "Item_Type                    0\n",
              "Item_MRP                     0\n",
              "Outlet_Identifier            0\n",
              "Outlet_Establishment_Year    0\n",
              "Outlet_Size                  0\n",
              "Outlet_Location_Type         0\n",
              "Outlet_Type                  0\n",
              "Item_Outlet_Sales            0\n",
              "dtype: int64"
            ]
          },
          "metadata": {},
          "execution_count": 8
        }
      ]
    },
    {
      "cell_type": "code",
      "metadata": {
        "colab": {
          "base_uri": "https://localhost:8080/"
        },
        "id": "BeNCamilZkNO",
        "outputId": "01d91b9e-08ab-4ae7-b394-9b61ce0c3c02"
      },
      "source": [
        "#7) Find and fix any inconsistent categories of data (example: fix cat, Cat, and cats so that they are consistent) \n",
        "\n",
        "#Check to see the value counts\n",
        "df.loc[:, 'Item_Fat_Content'].value_counts()\n",
        "\n",
        "#Make changes to keep consistency\n",
        "df.loc[df['Item_Fat_Content'] == 'LF', 'Item_Fat_Content'] = 'Low Fat'\n",
        "df.loc[df['Item_Fat_Content'] == 'low fat', 'Item_Fat_Content'] = 'Low Fat'\n",
        "df.loc[df['Item_Fat_Content'] == 'reg', 'Item_Fat_Content'] = 'Regular'\n",
        "df.loc[:, 'Item_Fat_Content'].value_counts()\n",
        "\n",
        "#Check value counts -- the below features are consistent\n",
        "df.loc[:, 'Item_Type'].value_counts()\n",
        "df.loc[:, 'Outlet_Identifier'].value_counts()\n",
        "df.loc[:, 'Outlet_Establishment_Year'].value_counts()\n",
        "df.loc[:, 'Outlet_Size'].value_counts()\n",
        "df.loc[:, 'Outlet_Location_Type'].value_counts()\n",
        "df.loc[:, 'Outlet_Type'].value_counts()"
      ],
      "execution_count": 9,
      "outputs": [
        {
          "output_type": "execute_result",
          "data": {
            "text/plain": [
              "Supermarket Type1    5577\n",
              "Grocery Store        1083\n",
              "Supermarket Type3     935\n",
              "Supermarket Type2     928\n",
              "Name: Outlet_Type, dtype: int64"
            ]
          },
          "metadata": {},
          "execution_count": 9
        }
      ]
    },
    {
      "cell_type": "code",
      "metadata": {
        "colab": {
          "base_uri": "https://localhost:8080/",
          "height": 0
        },
        "id": "jiDIxcAX2iIX",
        "outputId": "0db30164-8742-4ad5-c490-19b455eb7427"
      },
      "source": [
        "#8) For any numerical columns, obtain the summary statistics of each (min, max, mean)\n",
        "\n",
        "df[[\"Item_Weight\", \"Item_Visibility\", \"Item_MRP\", \"Outlet_Establishment_Year\", \"Item_Outlet_Sales\"]].describe()"
      ],
      "execution_count": 10,
      "outputs": [
        {
          "output_type": "execute_result",
          "data": {
            "text/html": [
              "<div>\n",
              "<style scoped>\n",
              "    .dataframe tbody tr th:only-of-type {\n",
              "        vertical-align: middle;\n",
              "    }\n",
              "\n",
              "    .dataframe tbody tr th {\n",
              "        vertical-align: top;\n",
              "    }\n",
              "\n",
              "    .dataframe thead th {\n",
              "        text-align: right;\n",
              "    }\n",
              "</style>\n",
              "<table border=\"1\" class=\"dataframe\">\n",
              "  <thead>\n",
              "    <tr style=\"text-align: right;\">\n",
              "      <th></th>\n",
              "      <th>Item_Weight</th>\n",
              "      <th>Item_Visibility</th>\n",
              "      <th>Item_MRP</th>\n",
              "      <th>Outlet_Establishment_Year</th>\n",
              "      <th>Item_Outlet_Sales</th>\n",
              "    </tr>\n",
              "  </thead>\n",
              "  <tbody>\n",
              "    <tr>\n",
              "      <th>count</th>\n",
              "      <td>8523.000000</td>\n",
              "      <td>8523.000000</td>\n",
              "      <td>8523.000000</td>\n",
              "      <td>8523.000000</td>\n",
              "      <td>8523.000000</td>\n",
              "    </tr>\n",
              "    <tr>\n",
              "      <th>mean</th>\n",
              "      <td>12.873262</td>\n",
              "      <td>0.066132</td>\n",
              "      <td>140.992782</td>\n",
              "      <td>1997.831867</td>\n",
              "      <td>2181.288914</td>\n",
              "    </tr>\n",
              "    <tr>\n",
              "      <th>std</th>\n",
              "      <td>4.646486</td>\n",
              "      <td>0.051598</td>\n",
              "      <td>62.275067</td>\n",
              "      <td>8.371760</td>\n",
              "      <td>1706.499616</td>\n",
              "    </tr>\n",
              "    <tr>\n",
              "      <th>min</th>\n",
              "      <td>4.555000</td>\n",
              "      <td>0.000000</td>\n",
              "      <td>31.290000</td>\n",
              "      <td>1985.000000</td>\n",
              "      <td>33.290000</td>\n",
              "    </tr>\n",
              "    <tr>\n",
              "      <th>25%</th>\n",
              "      <td>8.785000</td>\n",
              "      <td>0.026989</td>\n",
              "      <td>93.826500</td>\n",
              "      <td>1987.000000</td>\n",
              "      <td>834.247400</td>\n",
              "    </tr>\n",
              "    <tr>\n",
              "      <th>50%</th>\n",
              "      <td>12.600000</td>\n",
              "      <td>0.053931</td>\n",
              "      <td>143.012800</td>\n",
              "      <td>1999.000000</td>\n",
              "      <td>1794.331000</td>\n",
              "    </tr>\n",
              "    <tr>\n",
              "      <th>75%</th>\n",
              "      <td>16.850000</td>\n",
              "      <td>0.094585</td>\n",
              "      <td>185.643700</td>\n",
              "      <td>2004.000000</td>\n",
              "      <td>3101.296400</td>\n",
              "    </tr>\n",
              "    <tr>\n",
              "      <th>max</th>\n",
              "      <td>21.350000</td>\n",
              "      <td>0.328391</td>\n",
              "      <td>266.888400</td>\n",
              "      <td>2009.000000</td>\n",
              "      <td>13086.964800</td>\n",
              "    </tr>\n",
              "  </tbody>\n",
              "</table>\n",
              "</div>"
            ],
            "text/plain": [
              "       Item_Weight  ...  Item_Outlet_Sales\n",
              "count  8523.000000  ...        8523.000000\n",
              "mean     12.873262  ...        2181.288914\n",
              "std       4.646486  ...        1706.499616\n",
              "min       4.555000  ...          33.290000\n",
              "25%       8.785000  ...         834.247400\n",
              "50%      12.600000  ...        1794.331000\n",
              "75%      16.850000  ...        3101.296400\n",
              "max      21.350000  ...       13086.964800\n",
              "\n",
              "[8 rows x 5 columns]"
            ]
          },
          "metadata": {},
          "execution_count": 10
        }
      ]
    },
    {
      "cell_type": "markdown",
      "metadata": {
        "id": "EbiHb6OqJg9e"
      },
      "source": [
        "#Part 3: Statistical Analysis\n",
        "\n",
        "For Part3, your task is to complete any statistical analyses that might help you understand, explain, or model with your data. This must include at least one of each:\n",
        "\n",
        "1. Histogram to view the distributions of various features in your dataset.\n",
        "2. Boxplot to view statistical summaries of various features in your dataset.\n",
        "3. Heatmap of the correlation between features."
      ]
    },
    {
      "cell_type": "code",
      "metadata": {
        "colab": {
          "base_uri": "https://localhost:8080/",
          "height": 0
        },
        "id": "16CtsquSKxfi",
        "outputId": "02a71f10-4397-4b20-bb98-cce8d7a6ac4c"
      },
      "source": [
        "#1. Histogram to view the distributions of various feature in your dataset\n",
        "\n",
        "#Viewing distribution of quantity of items carried across individual outlets\n",
        "plt.style.use('seaborn')\n",
        "df['Outlet_Identifier'].hist(bins=10, edgecolor = \"black\")\n",
        "plt.xticks(rotation = 60)\n",
        "plt.title(\"Item Count Across Outlets\")\n",
        "plt.ylabel('Count');"
      ],
      "execution_count": 11,
      "outputs": [
        {
          "output_type": "display_data",
          "data": {
            "image/png": "[encoded data removed]",
            "text/plain": [
              "<Figure size 576x396 with 1 Axes>"
            ]
          },
          "metadata": {}
        }
      ]
    },
    {
      "cell_type": "code",
      "metadata": {
        "colab": {
          "base_uri": "https://localhost:8080/",
          "height": 0
        },
        "id": "vh5SBsGKU42U",
        "outputId": "9e8d9fd9-78a2-4a95-e761-f686b785e0d2"
      },
      "source": [
        "#Comparing distributions of item types in stores established in 1985 and 2009\n",
        "year1985_filter = df[\"Outlet_Establishment_Year\"] == 1985\n",
        "year2009_filter = df[\"Outlet_Establishment_Year\"] == 2009\n",
        "\n",
        "plt.hist(df[year1985_filter]['Item_Type'], alpha=0.5, edgecolor=\"black\", label=\"1985\")\n",
        "plt.hist(df[year2009_filter]['Item_Type'], alpha=0.5, edgecolor=\"black\", label=\"2009\")\n",
        "plt.title('Items carried by stores established in 1985 vs 2009')\n",
        "plt.xlabel('Items carried')\n",
        "plt.ylabel('Count')\n",
        "plt.legend()\n",
        "plt.xticks(fontsize=12, rotation = 90);"
      ],
      "execution_count": 12,
      "outputs": [
        {
          "output_type": "display_data",
          "data": {
            "image/png": "[encoded data removed]",
            "text/plain": [
              "<Figure size 576x396 with 1 Axes>"
            ]
          },
          "metadata": {}
        }
      ]
    },
    {
      "cell_type": "code",
      "metadata": {
        "colab": {
          "base_uri": "https://localhost:8080/",
          "height": 0
        },
        "id": "i3cpzZIoO6Ff",
        "outputId": "163cbcad-2aec-4299-f3c8-3a1da89edb20"
      },
      "source": [
        "#2. Boxplot to view statistical summaries of various features in your dataset.\n",
        "#Viewing boxplot of weight of items in the dataset\n",
        "df.boxplot(['Item_Weight'])\n",
        "plt.title('Statistical Summary of Item Weights')\n",
        "plt.ylabel('lbs');"
      ],
      "execution_count": 13,
      "outputs": [
        {
          "output_type": "display_data",
          "data": {
            "image/png": "[encoded data removed]",
            "text/plain": [
              "<Figure size 576x396 with 1 Axes>"
            ]
          },
          "metadata": {}
        }
      ]
    },
    {
      "cell_type": "code",
      "metadata": {
        "colab": {
          "base_uri": "https://localhost:8080/",
          "height": 0
        },
        "id": "BtUFz5YrUVRw",
        "outputId": "b5c03d73-aa01-4ca6-d6eb-6e670078bf57"
      },
      "source": [
        "#Viewing statistical summaries of item outlet sales by inidividual outlets\n",
        "\n",
        "sns.boxplot(x=df[\"Item_Outlet_Sales\"], y=df[\"Outlet_Identifier\"]);"
      ],
      "execution_count": 14,
      "outputs": [
        {
          "output_type": "display_data",
          "data": {
            "image/png": "[encoded data removed]",
            "text/plain": [
              "<Figure size 576x396 with 1 Axes>"
            ]
          },
          "metadata": {}
        }
      ]
    },
    {
      "cell_type": "code",
      "metadata": {
        "colab": {
          "base_uri": "https://localhost:8080/",
          "height": 0
        },
        "id": "JIOJvlvjJiJY",
        "outputId": "addb24a3-cb7f-4285-c794-c93b06ebcc45"
      },
      "source": [
        "#3. Heatmap of the correlation between features\n",
        "\n",
        "corr = df.corr()\n",
        "\n",
        "sns.heatmap(corr, cmap=\"GnBu\");"
      ],
      "execution_count": 15,
      "outputs": [
        {
          "output_type": "display_data",
          "data": {
            "image/png": "[encoded data removed]",
            "text/plain": [
              "<Figure size 576x396 with 2 Axes>"
            ]
          },
          "metadata": {}
        }
      ]
    },
    {
      "cell_type": "markdown",
      "metadata": {
        "id": "R9OI9IGZHmsY"
      },
      "source": [
        "#Part 4: Explanatory Data Analysis"
      ]
    },
    {
      "cell_type": "markdown",
      "metadata": {
        "id": "tMOSvHHWS31L"
      },
      "source": [
        "1. Present which Item Type yieldest the highest/lowest sales at a particular store"
      ]
    },
    {
      "cell_type": "code",
      "metadata": {
        "id": "Gi2tVydjHVkk",
        "colab": {
          "base_uri": "https://localhost:8080/",
          "height": 0
        },
        "outputId": "7794011e-9983-41eb-dc1b-139c336d2d18"
      },
      "source": [
        "#Filtering data for just Outlet 018\n",
        "outlet_018_filter = df['Outlet_Identifier'] == 'OUT018'\n",
        "out018_df = df[outlet_018_filter]\n",
        "\n",
        "#Grouping the data by Item Type and getting the sum of each column to grab total sum of the Item_Outlet_Sales\n",
        "item_sales_df = out018_df.groupby('Item_Type').sum()\n",
        "\n",
        "#Creating a bar chart of Outlet 018's sales, organized by Item Type, to see which Item Type had the highest/lowest sales at this particular store\n",
        "plt.barh(item_sales_df.index, item_sales_df['Item_Outlet_Sales'], \n",
        "         color = [\"gray\", \"gray\", \"gray\", \"gray\", \"gray\", \"gray\", \"gray\", \"gray\", \"gray\", \"gray\", \"gray\", \"gray\", \"red\", \"green\", \"gray\", \"gray\"])\n",
        "plt.title(\"Snack Foods and Seafood Accounted for Highest and Lowest Sales at Outlet 018\", size = 18)\n",
        "plt.xlabel(\"Number of Sales\", size=15);"
      ],
      "execution_count": 16,
      "outputs": [
        {
          "output_type": "display_data",
          "data": {
            "image/png": "[encoded data removed]",
            "text/plain": [
              "<Figure size 576x396 with 1 Axes>"
            ]
          },
          "metadata": {}
        }
      ]
    },
    {
      "cell_type": "markdown",
      "metadata": {
        "id": "kii2G0LBXA62"
      },
      "source": [
        "2. Present which of the medium sized stores yielded the highest item sales"
      ]
    },
    {
      "cell_type": "code",
      "metadata": {
        "id": "_wo9RBiBUD00",
        "colab": {
          "base_uri": "https://localhost:8080/",
          "height": 0
        },
        "outputId": "c2e84f30-6c90-48d0-8714-b4e84e18b701"
      },
      "source": [
        "#Filtering data for just Medium outlets\n",
        "med_outlet_filter = df['Outlet_Size'] == 'Medium'\n",
        "med_outlet_df = df[med_outlet_filter]\n",
        "\n",
        "#Grouping the data by Outlet Identifier and getting the sum of each column to grab total sum of the Item_Outlet_Sales\n",
        "group_med_outlet_df = med_outlet_df.groupby('Outlet_Identifier').sum()\n",
        "\n",
        "#Creating a bar chart of the outlets' sales to see which medium sized store yielded the highest/lowest sales\n",
        "plt.bar(group_med_outlet_df.index, group_med_outlet_df['Item_Outlet_Sales'],\n",
        "        color=[\"gray\", \"gray\", \"green\", \"gray\"])\n",
        "plt.title(\"Outlet 027 with Highest Item Sales of Medium Sized Stores\", size = 18)\n",
        "plt.gcf().axes[0].yaxis.get_major_formatter().set_scientific(False) #grabbed from Brenda's suggestion on Discord\n",
        "plt.xlabel(\"Outlet Identifier\", size=15)\n",
        "plt.ylabel(\"Number of Sales\", size=15);"
      ],
      "execution_count": 17,
      "outputs": [
        {
          "output_type": "display_data",
          "data": {
            "image/png": "[encoded data removed]",
            "text/plain": [
              "<Figure size 576x396 with 1 Axes>"
            ]
          },
          "metadata": {}
        }
      ]
    },
    {
      "cell_type": "markdown",
      "metadata": {
        "id": "aGgcqbkHddrS"
      },
      "source": [
        "# Part 5: Linear Regression"
      ]
    },
    {
      "cell_type": "code",
      "metadata": {
        "id": "sxkeaDIBuktS",
        "colab": {
          "base_uri": "https://localhost:8080/",
          "height": 0
        },
        "outputId": "18e9c373-c1d7-451b-8ed2-75f55cd23839"
      },
      "source": [
        "#Using Linear Regression to create and evaluate a model to predict sales\n",
        "# Transforming categorical variables into numbers and using dummy encoding where appropriate\n",
        "# view unique categories\n",
        "df['Outlet_Size'].unique()\n",
        "\n",
        "# define dictionary to replace\n",
        "OutletSize = {\"Small\": 0, \"Medium\": 1, \"High\": 3}\n",
        "\n",
        "#use the dictionary\n",
        "df['Outlet_Size'] = df['Outlet_Size'].replace(OutletSize)\n",
        "\n",
        "df.head()"
      ],
      "execution_count": 18,
      "outputs": [
        {
          "output_type": "execute_result",
          "data": {
            "text/html": [
              "<div>\n",
              "<style scoped>\n",
              "    .dataframe tbody tr th:only-of-type {\n",
              "        vertical-align: middle;\n",
              "    }\n",
              "\n",
              "    .dataframe tbody tr th {\n",
              "        vertical-align: top;\n",
              "    }\n",
              "\n",
              "    .dataframe thead th {\n",
              "        text-align: right;\n",
              "    }\n",
              "</style>\n",
              "<table border=\"1\" class=\"dataframe\">\n",
              "  <thead>\n",
              "    <tr style=\"text-align: right;\">\n",
              "      <th></th>\n",
              "      <th>Item_Identifier</th>\n",
              "      <th>Item_Weight</th>\n",
              "      <th>Item_Fat_Content</th>\n",
              "      <th>Item_Visibility</th>\n",
              "      <th>Item_Type</th>\n",
              "      <th>Item_MRP</th>\n",
              "      <th>Outlet_Identifier</th>\n",
              "      <th>Outlet_Establishment_Year</th>\n",
              "      <th>Outlet_Size</th>\n",
              "      <th>Outlet_Location_Type</th>\n",
              "      <th>Outlet_Type</th>\n",
              "      <th>Item_Outlet_Sales</th>\n",
              "    </tr>\n",
              "  </thead>\n",
              "  <tbody>\n",
              "    <tr>\n",
              "      <th>7738</th>\n",
              "      <td>NCZ54</td>\n",
              "      <td>14.65</td>\n",
              "      <td>Low Fat</td>\n",
              "      <td>0.083699</td>\n",
              "      <td>Household</td>\n",
              "      <td>163.4552</td>\n",
              "      <td>OUT018</td>\n",
              "      <td>2009</td>\n",
              "      <td>1</td>\n",
              "      <td>Tier 3</td>\n",
              "      <td>Supermarket Type2</td>\n",
              "      <td>2599.2832</td>\n",
              "    </tr>\n",
              "    <tr>\n",
              "      <th>1969</th>\n",
              "      <td>NCZ54</td>\n",
              "      <td>14.65</td>\n",
              "      <td>Low Fat</td>\n",
              "      <td>0.083528</td>\n",
              "      <td>Household</td>\n",
              "      <td>162.4552</td>\n",
              "      <td>OUT045</td>\n",
              "      <td>2002</td>\n",
              "      <td>0</td>\n",
              "      <td>Tier 2</td>\n",
              "      <td>Supermarket Type1</td>\n",
              "      <td>2274.3728</td>\n",
              "    </tr>\n",
              "    <tr>\n",
              "      <th>7926</th>\n",
              "      <td>NCZ54</td>\n",
              "      <td>14.65</td>\n",
              "      <td>Low Fat</td>\n",
              "      <td>0.083489</td>\n",
              "      <td>Household</td>\n",
              "      <td>161.3552</td>\n",
              "      <td>OUT049</td>\n",
              "      <td>1999</td>\n",
              "      <td>1</td>\n",
              "      <td>Tier 1</td>\n",
              "      <td>Supermarket Type1</td>\n",
              "      <td>7148.0288</td>\n",
              "    </tr>\n",
              "    <tr>\n",
              "      <th>214</th>\n",
              "      <td>NCZ54</td>\n",
              "      <td>14.65</td>\n",
              "      <td>Low Fat</td>\n",
              "      <td>0.000000</td>\n",
              "      <td>Household</td>\n",
              "      <td>161.5552</td>\n",
              "      <td>OUT010</td>\n",
              "      <td>1998</td>\n",
              "      <td>1</td>\n",
              "      <td>Tier 3</td>\n",
              "      <td>Grocery Store</td>\n",
              "      <td>324.9104</td>\n",
              "    </tr>\n",
              "    <tr>\n",
              "      <th>2839</th>\n",
              "      <td>NCZ54</td>\n",
              "      <td>14.65</td>\n",
              "      <td>Low Fat</td>\n",
              "      <td>0.083359</td>\n",
              "      <td>Household</td>\n",
              "      <td>161.9552</td>\n",
              "      <td>OUT046</td>\n",
              "      <td>1997</td>\n",
              "      <td>0</td>\n",
              "      <td>Tier 1</td>\n",
              "      <td>Supermarket Type1</td>\n",
              "      <td>4711.2008</td>\n",
              "    </tr>\n",
              "  </tbody>\n",
              "</table>\n",
              "</div>"
            ],
            "text/plain": [
              "     Item_Identifier  Item_Weight  ...        Outlet_Type  Item_Outlet_Sales\n",
              "7738           NCZ54        14.65  ...  Supermarket Type2          2599.2832\n",
              "1969           NCZ54        14.65  ...  Supermarket Type1          2274.3728\n",
              "7926           NCZ54        14.65  ...  Supermarket Type1          7148.0288\n",
              "214            NCZ54        14.65  ...      Grocery Store           324.9104\n",
              "2839           NCZ54        14.65  ...  Supermarket Type1          4711.2008\n",
              "\n",
              "[5 rows x 12 columns]"
            ]
          },
          "metadata": {},
          "execution_count": 18
        }
      ]
    },
    {
      "cell_type": "code",
      "metadata": {
        "id": "7JaE1RSyupKg",
        "colab": {
          "base_uri": "https://localhost:8080/",
          "height": 0
        },
        "outputId": "16abc461-8f23-4ff5-de8c-bd79374bb147"
      },
      "source": [
        "# view unique categories\n",
        "df['Outlet_Location_Type'].unique()\n",
        "\n",
        "# define dictionary to replace\n",
        "OutletLocationType = {\"Tier 1\": 1, \"Tier 2\": 2, \"Tier 3\": 3}\n",
        "\n",
        "#use the dictionary\n",
        "df['Outlet_Location_Type'] = df['Outlet_Location_Type'].replace(OutletLocationType)\n",
        "\n",
        "df.head()"
      ],
      "execution_count": 19,
      "outputs": [
        {
          "output_type": "execute_result",
          "data": {
            "text/html": [
              "<div>\n",
              "<style scoped>\n",
              "    .dataframe tbody tr th:only-of-type {\n",
              "        vertical-align: middle;\n",
              "    }\n",
              "\n",
              "    .dataframe tbody tr th {\n",
              "        vertical-align: top;\n",
              "    }\n",
              "\n",
              "    .dataframe thead th {\n",
              "        text-align: right;\n",
              "    }\n",
              "</style>\n",
              "<table border=\"1\" class=\"dataframe\">\n",
              "  <thead>\n",
              "    <tr style=\"text-align: right;\">\n",
              "      <th></th>\n",
              "      <th>Item_Identifier</th>\n",
              "      <th>Item_Weight</th>\n",
              "      <th>Item_Fat_Content</th>\n",
              "      <th>Item_Visibility</th>\n",
              "      <th>Item_Type</th>\n",
              "      <th>Item_MRP</th>\n",
              "      <th>Outlet_Identifier</th>\n",
              "      <th>Outlet_Establishment_Year</th>\n",
              "      <th>Outlet_Size</th>\n",
              "      <th>Outlet_Location_Type</th>\n",
              "      <th>Outlet_Type</th>\n",
              "      <th>Item_Outlet_Sales</th>\n",
              "    </tr>\n",
              "  </thead>\n",
              "  <tbody>\n",
              "    <tr>\n",
              "      <th>7738</th>\n",
              "      <td>NCZ54</td>\n",
              "      <td>14.65</td>\n",
              "      <td>Low Fat</td>\n",
              "      <td>0.083699</td>\n",
              "      <td>Household</td>\n",
              "      <td>163.4552</td>\n",
              "      <td>OUT018</td>\n",
              "      <td>2009</td>\n",
              "      <td>1</td>\n",
              "      <td>3</td>\n",
              "      <td>Supermarket Type2</td>\n",
              "      <td>2599.2832</td>\n",
              "    </tr>\n",
              "    <tr>\n",
              "      <th>1969</th>\n",
              "      <td>NCZ54</td>\n",
              "      <td>14.65</td>\n",
              "      <td>Low Fat</td>\n",
              "      <td>0.083528</td>\n",
              "      <td>Household</td>\n",
              "      <td>162.4552</td>\n",
              "      <td>OUT045</td>\n",
              "      <td>2002</td>\n",
              "      <td>0</td>\n",
              "      <td>2</td>\n",
              "      <td>Supermarket Type1</td>\n",
              "      <td>2274.3728</td>\n",
              "    </tr>\n",
              "    <tr>\n",
              "      <th>7926</th>\n",
              "      <td>NCZ54</td>\n",
              "      <td>14.65</td>\n",
              "      <td>Low Fat</td>\n",
              "      <td>0.083489</td>\n",
              "      <td>Household</td>\n",
              "      <td>161.3552</td>\n",
              "      <td>OUT049</td>\n",
              "      <td>1999</td>\n",
              "      <td>1</td>\n",
              "      <td>1</td>\n",
              "      <td>Supermarket Type1</td>\n",
              "      <td>7148.0288</td>\n",
              "    </tr>\n",
              "    <tr>\n",
              "      <th>214</th>\n",
              "      <td>NCZ54</td>\n",
              "      <td>14.65</td>\n",
              "      <td>Low Fat</td>\n",
              "      <td>0.000000</td>\n",
              "      <td>Household</td>\n",
              "      <td>161.5552</td>\n",
              "      <td>OUT010</td>\n",
              "      <td>1998</td>\n",
              "      <td>1</td>\n",
              "      <td>3</td>\n",
              "      <td>Grocery Store</td>\n",
              "      <td>324.9104</td>\n",
              "    </tr>\n",
              "    <tr>\n",
              "      <th>2839</th>\n",
              "      <td>NCZ54</td>\n",
              "      <td>14.65</td>\n",
              "      <td>Low Fat</td>\n",
              "      <td>0.083359</td>\n",
              "      <td>Household</td>\n",
              "      <td>161.9552</td>\n",
              "      <td>OUT046</td>\n",
              "      <td>1997</td>\n",
              "      <td>0</td>\n",
              "      <td>1</td>\n",
              "      <td>Supermarket Type1</td>\n",
              "      <td>4711.2008</td>\n",
              "    </tr>\n",
              "  </tbody>\n",
              "</table>\n",
              "</div>"
            ],
            "text/plain": [
              "     Item_Identifier  Item_Weight  ...        Outlet_Type  Item_Outlet_Sales\n",
              "7738           NCZ54        14.65  ...  Supermarket Type2          2599.2832\n",
              "1969           NCZ54        14.65  ...  Supermarket Type1          2274.3728\n",
              "7926           NCZ54        14.65  ...  Supermarket Type1          7148.0288\n",
              "214            NCZ54        14.65  ...      Grocery Store           324.9104\n",
              "2839           NCZ54        14.65  ...  Supermarket Type1          4711.2008\n",
              "\n",
              "[5 rows x 12 columns]"
            ]
          },
          "metadata": {},
          "execution_count": 19
        }
      ]
    },
    {
      "cell_type": "code",
      "metadata": {
        "id": "MbviEOmVtxhs",
        "colab": {
          "base_uri": "https://localhost:8080/",
          "height": 0
        },
        "outputId": "d0eae6af-9315-4a7e-f5ff-ae0f2b140d63"
      },
      "source": [
        "# Transforming categorical variables into numbers and using dummy encoding where appropriate\n",
        "#determined this is nominal so will use OHE\n",
        "\n",
        "df = pd.get_dummies(df, columns = ['Item_Fat_Content', 'Item_Type', 'Outlet_Identifier', 'Outlet_Type'], drop_first=True)\n",
        "df.head()"
      ],
      "execution_count": 20,
      "outputs": [
        {
          "output_type": "execute_result",
          "data": {
            "text/html": [
              "<div>\n",
              "<style scoped>\n",
              "    .dataframe tbody tr th:only-of-type {\n",
              "        vertical-align: middle;\n",
              "    }\n",
              "\n",
              "    .dataframe tbody tr th {\n",
              "        vertical-align: top;\n",
              "    }\n",
              "\n",
              "    .dataframe thead th {\n",
              "        text-align: right;\n",
              "    }\n",
              "</style>\n",
              "<table border=\"1\" class=\"dataframe\">\n",
              "  <thead>\n",
              "    <tr style=\"text-align: right;\">\n",
              "      <th></th>\n",
              "      <th>Item_Identifier</th>\n",
              "      <th>Item_Weight</th>\n",
              "      <th>Item_Visibility</th>\n",
              "      <th>Item_MRP</th>\n",
              "      <th>Outlet_Establishment_Year</th>\n",
              "      <th>Outlet_Size</th>\n",
              "      <th>Outlet_Location_Type</th>\n",
              "      <th>Item_Outlet_Sales</th>\n",
              "      <th>Item_Fat_Content_Regular</th>\n",
              "      <th>Item_Type_Breads</th>\n",
              "      <th>Item_Type_Breakfast</th>\n",
              "      <th>Item_Type_Canned</th>\n",
              "      <th>Item_Type_Dairy</th>\n",
              "      <th>Item_Type_Frozen Foods</th>\n",
              "      <th>Item_Type_Fruits and Vegetables</th>\n",
              "      <th>Item_Type_Hard Drinks</th>\n",
              "      <th>Item_Type_Health and Hygiene</th>\n",
              "      <th>Item_Type_Household</th>\n",
              "      <th>Item_Type_Meat</th>\n",
              "      <th>Item_Type_Others</th>\n",
              "      <th>Item_Type_Seafood</th>\n",
              "      <th>Item_Type_Snack Foods</th>\n",
              "      <th>Item_Type_Soft Drinks</th>\n",
              "      <th>Item_Type_Starchy Foods</th>\n",
              "      <th>Outlet_Identifier_OUT013</th>\n",
              "      <th>Outlet_Identifier_OUT017</th>\n",
              "      <th>Outlet_Identifier_OUT018</th>\n",
              "      <th>Outlet_Identifier_OUT019</th>\n",
              "      <th>Outlet_Identifier_OUT027</th>\n",
              "      <th>Outlet_Identifier_OUT035</th>\n",
              "      <th>Outlet_Identifier_OUT045</th>\n",
              "      <th>Outlet_Identifier_OUT046</th>\n",
              "      <th>Outlet_Identifier_OUT049</th>\n",
              "      <th>Outlet_Type_Supermarket Type1</th>\n",
              "      <th>Outlet_Type_Supermarket Type2</th>\n",
              "      <th>Outlet_Type_Supermarket Type3</th>\n",
              "    </tr>\n",
              "  </thead>\n",
              "  <tbody>\n",
              "    <tr>\n",
              "      <th>7738</th>\n",
              "      <td>NCZ54</td>\n",
              "      <td>14.65</td>\n",
              "      <td>0.083699</td>\n",
              "      <td>163.4552</td>\n",
              "      <td>2009</td>\n",
              "      <td>1</td>\n",
              "      <td>3</td>\n",
              "      <td>2599.2832</td>\n",
              "      <td>0</td>\n",
              "      <td>0</td>\n",
              "      <td>0</td>\n",
              "      <td>0</td>\n",
              "      <td>0</td>\n",
              "      <td>0</td>\n",
              "      <td>0</td>\n",
              "      <td>0</td>\n",
              "      <td>0</td>\n",
              "      <td>1</td>\n",
              "      <td>0</td>\n",
              "      <td>0</td>\n",
              "      <td>0</td>\n",
              "      <td>0</td>\n",
              "      <td>0</td>\n",
              "      <td>0</td>\n",
              "      <td>0</td>\n",
              "      <td>0</td>\n",
              "      <td>1</td>\n",
              "      <td>0</td>\n",
              "      <td>0</td>\n",
              "      <td>0</td>\n",
              "      <td>0</td>\n",
              "      <td>0</td>\n",
              "      <td>0</td>\n",
              "      <td>0</td>\n",
              "      <td>1</td>\n",
              "      <td>0</td>\n",
              "    </tr>\n",
              "    <tr>\n",
              "      <th>1969</th>\n",
              "      <td>NCZ54</td>\n",
              "      <td>14.65</td>\n",
              "      <td>0.083528</td>\n",
              "      <td>162.4552</td>\n",
              "      <td>2002</td>\n",
              "      <td>0</td>\n",
              "      <td>2</td>\n",
              "      <td>2274.3728</td>\n",
              "      <td>0</td>\n",
              "      <td>0</td>\n",
              "      <td>0</td>\n",
              "      <td>0</td>\n",
              "      <td>0</td>\n",
              "      <td>0</td>\n",
              "      <td>0</td>\n",
              "      <td>0</td>\n",
              "      <td>0</td>\n",
              "      <td>1</td>\n",
              "      <td>0</td>\n",
              "      <td>0</td>\n",
              "      <td>0</td>\n",
              "      <td>0</td>\n",
              "      <td>0</td>\n",
              "      <td>0</td>\n",
              "      <td>0</td>\n",
              "      <td>0</td>\n",
              "      <td>0</td>\n",
              "      <td>0</td>\n",
              "      <td>0</td>\n",
              "      <td>0</td>\n",
              "      <td>1</td>\n",
              "      <td>0</td>\n",
              "      <td>0</td>\n",
              "      <td>1</td>\n",
              "      <td>0</td>\n",
              "      <td>0</td>\n",
              "    </tr>\n",
              "    <tr>\n",
              "      <th>7926</th>\n",
              "      <td>NCZ54</td>\n",
              "      <td>14.65</td>\n",
              "      <td>0.083489</td>\n",
              "      <td>161.3552</td>\n",
              "      <td>1999</td>\n",
              "      <td>1</td>\n",
              "      <td>1</td>\n",
              "      <td>7148.0288</td>\n",
              "      <td>0</td>\n",
              "      <td>0</td>\n",
              "      <td>0</td>\n",
              "      <td>0</td>\n",
              "      <td>0</td>\n",
              "      <td>0</td>\n",
              "      <td>0</td>\n",
              "      <td>0</td>\n",
              "      <td>0</td>\n",
              "      <td>1</td>\n",
              "      <td>0</td>\n",
              "      <td>0</td>\n",
              "      <td>0</td>\n",
              "      <td>0</td>\n",
              "      <td>0</td>\n",
              "      <td>0</td>\n",
              "      <td>0</td>\n",
              "      <td>0</td>\n",
              "      <td>0</td>\n",
              "      <td>0</td>\n",
              "      <td>0</td>\n",
              "      <td>0</td>\n",
              "      <td>0</td>\n",
              "      <td>0</td>\n",
              "      <td>1</td>\n",
              "      <td>1</td>\n",
              "      <td>0</td>\n",
              "      <td>0</td>\n",
              "    </tr>\n",
              "    <tr>\n",
              "      <th>214</th>\n",
              "      <td>NCZ54</td>\n",
              "      <td>14.65</td>\n",
              "      <td>0.000000</td>\n",
              "      <td>161.5552</td>\n",
              "      <td>1998</td>\n",
              "      <td>1</td>\n",
              "      <td>3</td>\n",
              "      <td>324.9104</td>\n",
              "      <td>0</td>\n",
              "      <td>0</td>\n",
              "      <td>0</td>\n",
              "      <td>0</td>\n",
              "      <td>0</td>\n",
              "      <td>0</td>\n",
              "      <td>0</td>\n",
              "      <td>0</td>\n",
              "      <td>0</td>\n",
              "      <td>1</td>\n",
              "      <td>0</td>\n",
              "      <td>0</td>\n",
              "      <td>0</td>\n",
              "      <td>0</td>\n",
              "      <td>0</td>\n",
              "      <td>0</td>\n",
              "      <td>0</td>\n",
              "      <td>0</td>\n",
              "      <td>0</td>\n",
              "      <td>0</td>\n",
              "      <td>0</td>\n",
              "      <td>0</td>\n",
              "      <td>0</td>\n",
              "      <td>0</td>\n",
              "      <td>0</td>\n",
              "      <td>0</td>\n",
              "      <td>0</td>\n",
              "      <td>0</td>\n",
              "    </tr>\n",
              "    <tr>\n",
              "      <th>2839</th>\n",
              "      <td>NCZ54</td>\n",
              "      <td>14.65</td>\n",
              "      <td>0.083359</td>\n",
              "      <td>161.9552</td>\n",
              "      <td>1997</td>\n",
              "      <td>0</td>\n",
              "      <td>1</td>\n",
              "      <td>4711.2008</td>\n",
              "      <td>0</td>\n",
              "      <td>0</td>\n",
              "      <td>0</td>\n",
              "      <td>0</td>\n",
              "      <td>0</td>\n",
              "      <td>0</td>\n",
              "      <td>0</td>\n",
              "      <td>0</td>\n",
              "      <td>0</td>\n",
              "      <td>1</td>\n",
              "      <td>0</td>\n",
              "      <td>0</td>\n",
              "      <td>0</td>\n",
              "      <td>0</td>\n",
              "      <td>0</td>\n",
              "      <td>0</td>\n",
              "      <td>0</td>\n",
              "      <td>0</td>\n",
              "      <td>0</td>\n",
              "      <td>0</td>\n",
              "      <td>0</td>\n",
              "      <td>0</td>\n",
              "      <td>0</td>\n",
              "      <td>1</td>\n",
              "      <td>0</td>\n",
              "      <td>1</td>\n",
              "      <td>0</td>\n",
              "      <td>0</td>\n",
              "    </tr>\n",
              "  </tbody>\n",
              "</table>\n",
              "</div>"
            ],
            "text/plain": [
              "     Item_Identifier  ...  Outlet_Type_Supermarket Type3\n",
              "7738           NCZ54  ...                              0\n",
              "1969           NCZ54  ...                              0\n",
              "7926           NCZ54  ...                              0\n",
              "214            NCZ54  ...                              0\n",
              "2839           NCZ54  ...                              0\n",
              "\n",
              "[5 rows x 36 columns]"
            ]
          },
          "metadata": {},
          "execution_count": 20
        }
      ]
    },
    {
      "cell_type": "code",
      "metadata": {
        "id": "dElrJiqSwtDA",
        "colab": {
          "base_uri": "https://localhost:8080/",
          "height": 0
        },
        "outputId": "c2bd0d23-2753-4e0d-f5c1-c95349312424"
      },
      "source": [
        "len(df['Item_Identifier'].unique())\n",
        "#The identifiers are also nominal, but because there are 1559 unique item identifiers, it wouldn't be appropriate to use OHE\n",
        "\n",
        "#trying to use hashing\n",
        "\n",
        "unique_identifiers = np.unique(df[['Item_Identifier']])\n",
        "#print(\"Total item identifiers:\", len(unique_identifiers))\n",
        "#print(unique_identifiers)\n",
        "\n",
        "from sklearn.feature_extraction import FeatureHasher\n",
        "\n",
        "fh = FeatureHasher(n_features=10, input_type='string')\n",
        "hashed_features = fh.fit_transform(df['Item_Identifier'])\n",
        "hashed_features = hashed_features.toarray()\n",
        "# print(hashed_features)\n",
        "new_df = pd.concat([df, pd.DataFrame(hashed_features)], axis=1)\n",
        "new_df.head()\n",
        "\n",
        "new_df.rename(columns={0: \"ItemID1\", 1:\"ItemID2\", 2:\"ItemID3\", 3:\"ItemID4\", 4:\"ItemID5\", 5:\"ItemID6\", 6:\"ItemID7\", 7:\"ItemID8\", 8:\"ItemID9\", 9:\"ItemID10\"}, inplace=True)\n",
        "new_df.drop(columns=\"Item_Identifier\", inplace=True)\n",
        "new_df.head()"
      ],
      "execution_count": 21,
      "outputs": [
        {
          "output_type": "execute_result",
          "data": {
            "text/html": [
              "<div>\n",
              "<style scoped>\n",
              "    .dataframe tbody tr th:only-of-type {\n",
              "        vertical-align: middle;\n",
              "    }\n",
              "\n",
              "    .dataframe tbody tr th {\n",
              "        vertical-align: top;\n",
              "    }\n",
              "\n",
              "    .dataframe thead th {\n",
              "        text-align: right;\n",
              "    }\n",
              "</style>\n",
              "<table border=\"1\" class=\"dataframe\">\n",
              "  <thead>\n",
              "    <tr style=\"text-align: right;\">\n",
              "      <th></th>\n",
              "      <th>Item_Weight</th>\n",
              "      <th>Item_Visibility</th>\n",
              "      <th>Item_MRP</th>\n",
              "      <th>Outlet_Establishment_Year</th>\n",
              "      <th>Outlet_Size</th>\n",
              "      <th>Outlet_Location_Type</th>\n",
              "      <th>Item_Outlet_Sales</th>\n",
              "      <th>Item_Fat_Content_Regular</th>\n",
              "      <th>Item_Type_Breads</th>\n",
              "      <th>Item_Type_Breakfast</th>\n",
              "      <th>Item_Type_Canned</th>\n",
              "      <th>Item_Type_Dairy</th>\n",
              "      <th>Item_Type_Frozen Foods</th>\n",
              "      <th>Item_Type_Fruits and Vegetables</th>\n",
              "      <th>Item_Type_Hard Drinks</th>\n",
              "      <th>Item_Type_Health and Hygiene</th>\n",
              "      <th>Item_Type_Household</th>\n",
              "      <th>Item_Type_Meat</th>\n",
              "      <th>Item_Type_Others</th>\n",
              "      <th>Item_Type_Seafood</th>\n",
              "      <th>Item_Type_Snack Foods</th>\n",
              "      <th>Item_Type_Soft Drinks</th>\n",
              "      <th>Item_Type_Starchy Foods</th>\n",
              "      <th>Outlet_Identifier_OUT013</th>\n",
              "      <th>Outlet_Identifier_OUT017</th>\n",
              "      <th>Outlet_Identifier_OUT018</th>\n",
              "      <th>Outlet_Identifier_OUT019</th>\n",
              "      <th>Outlet_Identifier_OUT027</th>\n",
              "      <th>Outlet_Identifier_OUT035</th>\n",
              "      <th>Outlet_Identifier_OUT045</th>\n",
              "      <th>Outlet_Identifier_OUT046</th>\n",
              "      <th>Outlet_Identifier_OUT049</th>\n",
              "      <th>Outlet_Type_Supermarket Type1</th>\n",
              "      <th>Outlet_Type_Supermarket Type2</th>\n",
              "      <th>Outlet_Type_Supermarket Type3</th>\n",
              "      <th>ItemID1</th>\n",
              "      <th>ItemID2</th>\n",
              "      <th>ItemID3</th>\n",
              "      <th>ItemID4</th>\n",
              "      <th>ItemID5</th>\n",
              "      <th>ItemID6</th>\n",
              "      <th>ItemID7</th>\n",
              "      <th>ItemID8</th>\n",
              "      <th>ItemID9</th>\n",
              "      <th>ItemID10</th>\n",
              "    </tr>\n",
              "  </thead>\n",
              "  <tbody>\n",
              "    <tr>\n",
              "      <th>0</th>\n",
              "      <td>9.30</td>\n",
              "      <td>0.016047</td>\n",
              "      <td>249.8092</td>\n",
              "      <td>1999</td>\n",
              "      <td>1</td>\n",
              "      <td>1</td>\n",
              "      <td>3735.1380</td>\n",
              "      <td>0</td>\n",
              "      <td>0</td>\n",
              "      <td>0</td>\n",
              "      <td>0</td>\n",
              "      <td>1</td>\n",
              "      <td>0</td>\n",
              "      <td>0</td>\n",
              "      <td>0</td>\n",
              "      <td>0</td>\n",
              "      <td>0</td>\n",
              "      <td>0</td>\n",
              "      <td>0</td>\n",
              "      <td>0</td>\n",
              "      <td>0</td>\n",
              "      <td>0</td>\n",
              "      <td>0</td>\n",
              "      <td>0</td>\n",
              "      <td>0</td>\n",
              "      <td>0</td>\n",
              "      <td>0</td>\n",
              "      <td>0</td>\n",
              "      <td>0</td>\n",
              "      <td>0</td>\n",
              "      <td>0</td>\n",
              "      <td>1</td>\n",
              "      <td>1</td>\n",
              "      <td>0</td>\n",
              "      <td>0</td>\n",
              "      <td>1.0</td>\n",
              "      <td>0.0</td>\n",
              "      <td>-1.0</td>\n",
              "      <td>0.0</td>\n",
              "      <td>0.0</td>\n",
              "      <td>0.0</td>\n",
              "      <td>0.0</td>\n",
              "      <td>-1.0</td>\n",
              "      <td>0.0</td>\n",
              "      <td>0.0</td>\n",
              "    </tr>\n",
              "    <tr>\n",
              "      <th>1</th>\n",
              "      <td>5.92</td>\n",
              "      <td>0.019278</td>\n",
              "      <td>48.2692</td>\n",
              "      <td>2009</td>\n",
              "      <td>1</td>\n",
              "      <td>3</td>\n",
              "      <td>443.4228</td>\n",
              "      <td>1</td>\n",
              "      <td>0</td>\n",
              "      <td>0</td>\n",
              "      <td>0</td>\n",
              "      <td>0</td>\n",
              "      <td>0</td>\n",
              "      <td>0</td>\n",
              "      <td>0</td>\n",
              "      <td>0</td>\n",
              "      <td>0</td>\n",
              "      <td>0</td>\n",
              "      <td>0</td>\n",
              "      <td>0</td>\n",
              "      <td>0</td>\n",
              "      <td>1</td>\n",
              "      <td>0</td>\n",
              "      <td>0</td>\n",
              "      <td>0</td>\n",
              "      <td>1</td>\n",
              "      <td>0</td>\n",
              "      <td>0</td>\n",
              "      <td>0</td>\n",
              "      <td>0</td>\n",
              "      <td>0</td>\n",
              "      <td>0</td>\n",
              "      <td>0</td>\n",
              "      <td>1</td>\n",
              "      <td>0</td>\n",
              "      <td>1.0</td>\n",
              "      <td>0.0</td>\n",
              "      <td>-1.0</td>\n",
              "      <td>0.0</td>\n",
              "      <td>0.0</td>\n",
              "      <td>0.0</td>\n",
              "      <td>0.0</td>\n",
              "      <td>-1.0</td>\n",
              "      <td>0.0</td>\n",
              "      <td>0.0</td>\n",
              "    </tr>\n",
              "    <tr>\n",
              "      <th>2</th>\n",
              "      <td>17.50</td>\n",
              "      <td>0.016760</td>\n",
              "      <td>141.6180</td>\n",
              "      <td>1999</td>\n",
              "      <td>1</td>\n",
              "      <td>1</td>\n",
              "      <td>2097.2700</td>\n",
              "      <td>0</td>\n",
              "      <td>0</td>\n",
              "      <td>0</td>\n",
              "      <td>0</td>\n",
              "      <td>0</td>\n",
              "      <td>0</td>\n",
              "      <td>0</td>\n",
              "      <td>0</td>\n",
              "      <td>0</td>\n",
              "      <td>0</td>\n",
              "      <td>1</td>\n",
              "      <td>0</td>\n",
              "      <td>0</td>\n",
              "      <td>0</td>\n",
              "      <td>0</td>\n",
              "      <td>0</td>\n",
              "      <td>0</td>\n",
              "      <td>0</td>\n",
              "      <td>0</td>\n",
              "      <td>0</td>\n",
              "      <td>0</td>\n",
              "      <td>0</td>\n",
              "      <td>0</td>\n",
              "      <td>0</td>\n",
              "      <td>1</td>\n",
              "      <td>1</td>\n",
              "      <td>0</td>\n",
              "      <td>0</td>\n",
              "      <td>1.0</td>\n",
              "      <td>0.0</td>\n",
              "      <td>-1.0</td>\n",
              "      <td>0.0</td>\n",
              "      <td>0.0</td>\n",
              "      <td>0.0</td>\n",
              "      <td>0.0</td>\n",
              "      <td>-1.0</td>\n",
              "      <td>0.0</td>\n",
              "      <td>0.0</td>\n",
              "    </tr>\n",
              "    <tr>\n",
              "      <th>3</th>\n",
              "      <td>19.20</td>\n",
              "      <td>0.000000</td>\n",
              "      <td>182.0950</td>\n",
              "      <td>1998</td>\n",
              "      <td>1</td>\n",
              "      <td>3</td>\n",
              "      <td>732.3800</td>\n",
              "      <td>1</td>\n",
              "      <td>0</td>\n",
              "      <td>0</td>\n",
              "      <td>0</td>\n",
              "      <td>0</td>\n",
              "      <td>0</td>\n",
              "      <td>1</td>\n",
              "      <td>0</td>\n",
              "      <td>0</td>\n",
              "      <td>0</td>\n",
              "      <td>0</td>\n",
              "      <td>0</td>\n",
              "      <td>0</td>\n",
              "      <td>0</td>\n",
              "      <td>0</td>\n",
              "      <td>0</td>\n",
              "      <td>0</td>\n",
              "      <td>0</td>\n",
              "      <td>0</td>\n",
              "      <td>0</td>\n",
              "      <td>0</td>\n",
              "      <td>0</td>\n",
              "      <td>0</td>\n",
              "      <td>0</td>\n",
              "      <td>0</td>\n",
              "      <td>0</td>\n",
              "      <td>0</td>\n",
              "      <td>0</td>\n",
              "      <td>1.0</td>\n",
              "      <td>0.0</td>\n",
              "      <td>-1.0</td>\n",
              "      <td>0.0</td>\n",
              "      <td>0.0</td>\n",
              "      <td>0.0</td>\n",
              "      <td>0.0</td>\n",
              "      <td>-1.0</td>\n",
              "      <td>0.0</td>\n",
              "      <td>0.0</td>\n",
              "    </tr>\n",
              "    <tr>\n",
              "      <th>4</th>\n",
              "      <td>8.93</td>\n",
              "      <td>0.000000</td>\n",
              "      <td>53.8614</td>\n",
              "      <td>1987</td>\n",
              "      <td>3</td>\n",
              "      <td>3</td>\n",
              "      <td>994.7052</td>\n",
              "      <td>0</td>\n",
              "      <td>0</td>\n",
              "      <td>0</td>\n",
              "      <td>0</td>\n",
              "      <td>0</td>\n",
              "      <td>0</td>\n",
              "      <td>0</td>\n",
              "      <td>0</td>\n",
              "      <td>0</td>\n",
              "      <td>1</td>\n",
              "      <td>0</td>\n",
              "      <td>0</td>\n",
              "      <td>0</td>\n",
              "      <td>0</td>\n",
              "      <td>0</td>\n",
              "      <td>0</td>\n",
              "      <td>1</td>\n",
              "      <td>0</td>\n",
              "      <td>0</td>\n",
              "      <td>0</td>\n",
              "      <td>0</td>\n",
              "      <td>0</td>\n",
              "      <td>0</td>\n",
              "      <td>0</td>\n",
              "      <td>0</td>\n",
              "      <td>1</td>\n",
              "      <td>0</td>\n",
              "      <td>0</td>\n",
              "      <td>1.0</td>\n",
              "      <td>0.0</td>\n",
              "      <td>-1.0</td>\n",
              "      <td>0.0</td>\n",
              "      <td>0.0</td>\n",
              "      <td>0.0</td>\n",
              "      <td>0.0</td>\n",
              "      <td>-1.0</td>\n",
              "      <td>0.0</td>\n",
              "      <td>0.0</td>\n",
              "    </tr>\n",
              "  </tbody>\n",
              "</table>\n",
              "</div>"
            ],
            "text/plain": [
              "   Item_Weight  Item_Visibility  Item_MRP  ...  ItemID8  ItemID9  ItemID10\n",
              "0         9.30         0.016047  249.8092  ...     -1.0      0.0       0.0\n",
              "1         5.92         0.019278   48.2692  ...     -1.0      0.0       0.0\n",
              "2        17.50         0.016760  141.6180  ...     -1.0      0.0       0.0\n",
              "3        19.20         0.000000  182.0950  ...     -1.0      0.0       0.0\n",
              "4         8.93         0.000000   53.8614  ...     -1.0      0.0       0.0\n",
              "\n",
              "[5 rows x 45 columns]"
            ]
          },
          "metadata": {},
          "execution_count": 21
        }
      ]
    },
    {
      "cell_type": "markdown",
      "metadata": {
        "id": "58sGER_N7Uoc"
      },
      "source": [
        "Assign the \"Item_Outlet_Sales\" column as the target and the rest of the variables as the features matrix"
      ]
    },
    {
      "cell_type": "code",
      "metadata": {
        "id": "xw5ROZmI7zrC",
        "colab": {
          "base_uri": "https://localhost:8080/"
        },
        "outputId": "7af83623-f7d9-406f-a5c3-26786d8af1c2"
      },
      "source": [
        "y = new_df['Item_Outlet_Sales']\n",
        "X = new_df.drop(columns = 'Item_Outlet_Sales')\n",
        "\n",
        "\n",
        "y.shape\n",
        "X.shape"
      ],
      "execution_count": 22,
      "outputs": [
        {
          "output_type": "execute_result",
          "data": {
            "text/plain": [
              "(8523, 44)"
            ]
          },
          "metadata": {},
          "execution_count": 22
        }
      ]
    },
    {
      "cell_type": "markdown",
      "metadata": {
        "id": "yes7AvHq-9a_"
      },
      "source": [
        "Train test split the data set"
      ]
    },
    {
      "cell_type": "code",
      "metadata": {
        "id": "tSJIbGOD-8SY"
      },
      "source": [
        "X_train, X_test, y_train, y_test = train_test_split(X, y, random_state=42)"
      ],
      "execution_count": 23,
      "outputs": []
    },
    {
      "cell_type": "markdown",
      "metadata": {
        "id": "VnBR5m8-_Ryw"
      },
      "source": [
        "Build a linear regression model"
      ]
    },
    {
      "cell_type": "code",
      "metadata": {
        "id": "dk0s4wGI_TeP",
        "colab": {
          "base_uri": "https://localhost:8080/"
        },
        "outputId": "11196090-eb67-4078-c683-4c2b2d3616a7"
      },
      "source": [
        "reg_model = LinearRegression()\n",
        "reg_model.fit(X_train, y_train)"
      ],
      "execution_count": 24,
      "outputs": [
        {
          "output_type": "execute_result",
          "data": {
            "text/plain": [
              "LinearRegression(copy_X=True, fit_intercept=True, n_jobs=None, normalize=False)"
            ]
          },
          "metadata": {},
          "execution_count": 24
        }
      ]
    },
    {
      "cell_type": "markdown",
      "metadata": {
        "id": "crkKbc2l_g8I"
      },
      "source": [
        "Evaluate the test set results using R2"
      ]
    },
    {
      "cell_type": "code",
      "metadata": {
        "id": "TcFxOhWH_mf9",
        "colab": {
          "base_uri": "https://localhost:8080/"
        },
        "outputId": "72ad77ca-db58-44fb-b664-5689e55a7bb6"
      },
      "source": [
        "print(\"R2 Train Score:\", r2_score(y_train, reg_model.predict(X_train)))\n",
        "print(\"R2 Test Score:\", r2_score(y_test, reg_model.predict(X_test)))"
      ],
      "execution_count": 25,
      "outputs": [
        {
          "output_type": "stream",
          "name": "stdout",
          "text": [
            "R2 Train Score: 0.5622383373007961\n",
            "R2 Test Score: 0.5663209914828912\n"
          ]
        }
      ]
    },
    {
      "cell_type": "markdown",
      "metadata": {
        "id": "5kyLFHCw_jle"
      },
      "source": [
        "Evaluate the test set results using RMSE"
      ]
    },
    {
      "cell_type": "code",
      "metadata": {
        "id": "P9tU00aK_sxk",
        "colab": {
          "base_uri": "https://localhost:8080/"
        },
        "outputId": "8d74fa06-354a-4fcc-ee7f-b865cd6b3372"
      },
      "source": [
        "print('Testing RMSE:', np.sqrt(mean_squared_error(y_test, reg_model.predict(X_test))))"
      ],
      "execution_count": 26,
      "outputs": [
        {
          "output_type": "stream",
          "name": "stdout",
          "text": [
            "Testing RMSE: 1093.8512397475317\n"
          ]
        }
      ]
    },
    {
      "cell_type": "markdown",
      "metadata": {
        "id": "mp7r_isFVPu6"
      },
      "source": [
        "#Part 6: Tree Based Models\n",
        "\n",
        "Your task is to build tree based models to predict sales and compare evaluation metrics for regression problems.  \n",
        "\n",
        "\n",
        "\n",
        "1.   Build and evaluate a simple decision tree model.\n",
        "2.   Build and evaluate a bagged tree model.\n",
        "3.   Build and evaluate a random forest model. "
      ]
    },
    {
      "cell_type": "code",
      "metadata": {
        "id": "5Ab02rabV0Rr"
      },
      "source": [
        "#1 Build and evaluate a simple decision tree model\n",
        "\n",
        "#Assign target vector and features matrix\n",
        "\n",
        "y = new_df['Item_Outlet_Sales']\n",
        "X = new_df.drop(columns = 'Item_Outlet_Sales')"
      ],
      "execution_count": 27,
      "outputs": []
    },
    {
      "cell_type": "code",
      "metadata": {
        "id": "OSfvUoO1WuG0"
      },
      "source": [
        "#Train test split (model validation)\n",
        "\n",
        "X_train, X_test, y_train, y_test = train_test_split(X, y, random_state=42)"
      ],
      "execution_count": 28,
      "outputs": []
    },
    {
      "cell_type": "code",
      "metadata": {
        "id": "xNtPNbP-W7Dn"
      },
      "source": [
        "#Run a regression tree model with default parameters\n",
        "\n",
        "dec_tree = DecisionTreeRegressor(random_state = 42)"
      ],
      "execution_count": 29,
      "outputs": []
    },
    {
      "cell_type": "code",
      "metadata": {
        "colab": {
          "base_uri": "https://localhost:8080/"
        },
        "id": "TW4IL7kOXCIK",
        "outputId": "3c31edca-cbc2-45c1-f55e-fea9594b1f06"
      },
      "source": [
        "#Fit the model using the training data. The model is learning the relationship between the features (X) and the target (y)\n",
        "\n",
        "dec_tree.fit(X_train, y_train)"
      ],
      "execution_count": 30,
      "outputs": [
        {
          "output_type": "execute_result",
          "data": {
            "text/plain": [
              "DecisionTreeRegressor(ccp_alpha=0.0, criterion='mse', max_depth=None,\n",
              "                      max_features=None, max_leaf_nodes=None,\n",
              "                      min_impurity_decrease=0.0, min_impurity_split=None,\n",
              "                      min_samples_leaf=1, min_samples_split=2,\n",
              "                      min_weight_fraction_leaf=0.0, presort='deprecated',\n",
              "                      random_state=42, splitter='best')"
            ]
          },
          "metadata": {},
          "execution_count": 30
        }
      ]
    },
    {
      "cell_type": "code",
      "metadata": {
        "id": "UaMjNt5qXLJa"
      },
      "source": [
        "#Predict the target values for the training set and the test set\n",
        "\n",
        "train_pred = dec_tree.predict(X_train)\n",
        "test_pred = dec_tree.predict(X_test)"
      ],
      "execution_count": 31,
      "outputs": []
    },
    {
      "cell_type": "code",
      "metadata": {
        "colab": {
          "base_uri": "https://localhost:8080/"
        },
        "id": "Ry_tRRGDXUTY",
        "outputId": "9aac9e97-0604-4dcf-8e15-676f5560bbe1"
      },
      "source": [
        "#look at options for tuning the model and determine the depth of the default tree and the number of leaf nodes\n",
        "dec_tree\n",
        "print('Depth of the default tree:', dec_tree.get_depth())\n",
        "print('Number of leaf nodes:', dec_tree.get_n_leaves())"
      ],
      "execution_count": 32,
      "outputs": [
        {
          "output_type": "stream",
          "name": "stdout",
          "text": [
            "Depth of the default tree: 40\n",
            "Number of leaf nodes: 6252\n"
          ]
        }
      ]
    },
    {
      "cell_type": "code",
      "metadata": {
        "colab": {
          "base_uri": "https://localhost:8080/"
        },
        "id": "3OpGBXC9XtrY",
        "outputId": "baf45b5f-fd90-4d2c-bd71-e606ad2c6817"
      },
      "source": [
        "#Evaluate the model, show the R2 score\n",
        "train_score = dec_tree.score(X_train, y_train)\n",
        "test_score = dec_tree.score(X_test, y_test)\n",
        "print('train_score:', train_score)\n",
        "print('test_score:', test_score)"
      ],
      "execution_count": 33,
      "outputs": [
        {
          "output_type": "stream",
          "name": "stdout",
          "text": [
            "train_score: 1.0\n",
            "test_score: 0.17772741361312094\n"
          ]
        }
      ]
    },
    {
      "cell_type": "code",
      "metadata": {
        "id": "S-B1Vwy4YiN8"
      },
      "source": [
        "#Optimize the max_depth based on the R2 score\n",
        "\n",
        "max_depth_range = list(range(2, 36)) # will try every value between 2 and 36\n",
        "#List to store the score for each value of max_depth:\n",
        "\n",
        "r2 = []\n",
        "\n",
        "for depth in max_depth_range:\n",
        "  dec_tree = DecisionTreeRegressor(max_depth = depth, random_state=42)\n",
        "  dec_tree.fit(X_train, y_train)\n",
        "  score = dec_tree.score(X_test, y_test)\n",
        "  r2.append(score)"
      ],
      "execution_count": 34,
      "outputs": []
    },
    {
      "cell_type": "code",
      "metadata": {
        "colab": {
          "base_uri": "https://localhost:8080/",
          "height": 361
        },
        "id": "FH_Lpvy_YvDw",
        "outputId": "36730e14-ec37-4efb-a6be-9da11cc28196"
      },
      "source": [
        "#Visualize which max_depth leads to the highest r2 score\n",
        "\n",
        "plt.plot(max_depth_range, r2)\n",
        "plt.xlabel('max_depth')\n",
        "plt.ylabel('R2')\n",
        "plt.grid(axis='both');\n",
        "\n",
        "#It appears that the best score for the model is when the parameter max_depth = 6"
      ],
      "execution_count": 35,
      "outputs": [
        {
          "output_type": "display_data",
          "data": {
            "image/png": "[encoded data removed]",
            "text/plain": [
              "<Figure size 576x396 with 1 Axes>"
            ]
          },
          "metadata": {}
        }
      ]
    },
    {
      "cell_type": "code",
      "metadata": {
        "colab": {
          "base_uri": "https://localhost:8080/"
        },
        "id": "A3pZo1K8ZSkC",
        "outputId": "ab2c313f-7513-4404-ff3d-7381b13d94a9"
      },
      "source": [
        "#check scores with max_depth = 6\n",
        "dec_tree_6 = DecisionTreeRegressor(max_depth = 6, random_state = 42)\n",
        "dec_tree_6.fit(X_train, y_train)\n",
        "train_6_score = dec_tree_6.score(X_train, y_train)\n",
        "test_6_score = dec_tree_6.score(X_test, y_test)\n",
        "print('train_6_score:', train_6_score)\n",
        "print('test_6_score:', test_6_score)"
      ],
      "execution_count": 36,
      "outputs": [
        {
          "output_type": "stream",
          "name": "stdout",
          "text": [
            "train_6_score: 0.6261464968318194\n",
            "test_6_score: 0.5719726501608647\n"
          ]
        }
      ]
    },
    {
      "cell_type": "code",
      "metadata": {
        "colab": {
          "base_uri": "https://localhost:8080/"
        },
        "id": "8GSFvuTyZnks",
        "outputId": "5fb40093-8ee8-449c-f56f-f3bb9ef837c8"
      },
      "source": [
        "#2 Build and evaluate a bagged tree model.\n",
        "\n",
        "#Make an instance of the model using default parameters\n",
        "\n",
        "bagreg = BaggingRegressor(random_state = 42)\n",
        "bagreg"
      ],
      "execution_count": 37,
      "outputs": [
        {
          "output_type": "execute_result",
          "data": {
            "text/plain": [
              "BaggingRegressor(base_estimator=None, bootstrap=True, bootstrap_features=False,\n",
              "                 max_features=1.0, max_samples=1.0, n_estimators=10,\n",
              "                 n_jobs=None, oob_score=False, random_state=42, verbose=0,\n",
              "                 warm_start=False)"
            ]
          },
          "metadata": {},
          "execution_count": 37
        }
      ]
    },
    {
      "cell_type": "code",
      "metadata": {
        "colab": {
          "base_uri": "https://localhost:8080/"
        },
        "id": "eeVz0p8vZ0Se",
        "outputId": "cee40754-b561-4436-d106-8c2cf59d16ff"
      },
      "source": [
        "#train the model on the data, storing the information learned from the data. \n",
        "#the model is learning the relationship between X and y\n",
        "bagreg.fit(X_train, y_train)"
      ],
      "execution_count": 38,
      "outputs": [
        {
          "output_type": "execute_result",
          "data": {
            "text/plain": [
              "BaggingRegressor(base_estimator=None, bootstrap=True, bootstrap_features=False,\n",
              "                 max_features=1.0, max_samples=1.0, n_estimators=10,\n",
              "                 n_jobs=None, oob_score=False, random_state=42, verbose=0,\n",
              "                 warm_start=False)"
            ]
          },
          "metadata": {},
          "execution_count": 38
        }
      ]
    },
    {
      "cell_type": "code",
      "metadata": {
        "colab": {
          "base_uri": "https://localhost:8080/"
        },
        "id": "Ceq1MnlgZ52I",
        "outputId": "3db530a6-92ea-49da-c9ad-2e0aa78e2b2e"
      },
      "source": [
        "# predict the values for y\n",
        "\n",
        "bagreg.predict(X_test)"
      ],
      "execution_count": 39,
      "outputs": [
        {
          "output_type": "execute_result",
          "data": {
            "text/plain": [
              "array([1087.18482,  998.30052,  639.56748, ..., 4667.65748, 1804.91722,\n",
              "       2905.68436])"
            ]
          },
          "metadata": {},
          "execution_count": 39
        }
      ]
    },
    {
      "cell_type": "code",
      "metadata": {
        "colab": {
          "base_uri": "https://localhost:8080/"
        },
        "id": "iZYuPzTvZ-Mo",
        "outputId": "44ddf7a3-81ae-436e-a179-23bad9cffb0d"
      },
      "source": [
        "# evaluate model performance\n",
        "\n",
        "bagreg_train_score = bagreg.score(X_train, y_train)\n",
        "bagreg_test_score = bagreg.score(X_test, y_test)\n",
        "print('bagreg_train_score:', bagreg_train_score)\n",
        "print('bagreg_test_score:', bagreg_test_score)"
      ],
      "execution_count": 40,
      "outputs": [
        {
          "output_type": "stream",
          "name": "stdout",
          "text": [
            "bagreg_train_score: 0.9178081436516641\n",
            "bagreg_test_score: 0.5520645726362016\n"
          ]
        }
      ]
    },
    {
      "cell_type": "code",
      "metadata": {
        "colab": {
          "base_uri": "https://localhost:8080/"
        },
        "id": "arZrnM6yaTyt",
        "outputId": "e3887d8a-9b12-4857-a2b7-5a9f2a3776a2"
      },
      "source": [
        "#Build and evaluate a random forest model.\n",
        "\n",
        "#Random Forest regressor\n",
        "\n",
        "rf = RandomForestRegressor()\n",
        "rf.fit(X_train, y_train)"
      ],
      "execution_count": 41,
      "outputs": [
        {
          "output_type": "execute_result",
          "data": {
            "text/plain": [
              "RandomForestRegressor(bootstrap=True, ccp_alpha=0.0, criterion='mse',\n",
              "                      max_depth=None, max_features='auto', max_leaf_nodes=None,\n",
              "                      max_samples=None, min_impurity_decrease=0.0,\n",
              "                      min_impurity_split=None, min_samples_leaf=1,\n",
              "                      min_samples_split=2, min_weight_fraction_leaf=0.0,\n",
              "                      n_estimators=100, n_jobs=None, oob_score=False,\n",
              "                      random_state=None, verbose=0, warm_start=False)"
            ]
          },
          "metadata": {},
          "execution_count": 41
        }
      ]
    },
    {
      "cell_type": "code",
      "metadata": {
        "colab": {
          "base_uri": "https://localhost:8080/"
        },
        "id": "XYNb7DfbachW",
        "outputId": "6891fcdf-9087-4dce-a1f8-8c3cc224c1f7"
      },
      "source": [
        "# Training R2\n",
        "\n",
        "print('rf_train_score:', rf.score(X_train, y_train))\n",
        "print('rf_test_score:', rf.score(X_test, y_test))"
      ],
      "execution_count": 42,
      "outputs": [
        {
          "output_type": "stream",
          "name": "stdout",
          "text": [
            "rf_train_score: 0.9394771522492804\n",
            "rf_test_score: 0.5741797785820487\n"
          ]
        }
      ]
    },
    {
      "cell_type": "markdown",
      "metadata": {
        "id": "vuy8DF8LbIQA"
      },
      "source": [
        "You now have tried at least 4 models on this data set (including the regression model from last week).\n",
        "1.   Compare the performance of your models based on r^2.\n",
        "2.   Compare the performance of your models based on rmse.  \n",
        "3.   Overall, which model do you recommend?"
      ]
    },
    {
      "cell_type": "markdown",
      "metadata": {
        "id": "DpfvDE6cbK31"
      },
      "source": [
        "1. Compare the performance of the models based on r^2\n",
        "\n",
        "Regression Model: \n",
        "R2 Train Score: 0.5622383373007961\n",
        "R2 Test Score: 0.5663209914828913\n",
        "\n",
        "Decision Tree Model: \n",
        "R2 Train Score: 1.0\n",
        "R2 Test Score: 0.17772741361312094\n",
        "\n",
        "Bagged Tree Model:\n",
        "R2 Train Score: 0.9178081436516641\n",
        "R2 Test Score: 0.5520645726362016\n",
        "\n",
        "Random Forest Model:\n",
        "R2 Train Score: 0.9387189921120709\n",
        "R2 Test Score: 0.5794777539327004"
      ]
    },
    {
      "cell_type": "markdown",
      "metadata": {
        "id": "9EgkFXDHcWoF"
      },
      "source": [
        "2. Compare the performance of the models based on rmse"
      ]
    },
    {
      "cell_type": "code",
      "metadata": {
        "colab": {
          "base_uri": "https://localhost:8080/"
        },
        "id": "NHU7epsVdVyf",
        "outputId": "8d4f3fa6-5f7a-4ac7-ffe3-e3c900320a90"
      },
      "source": [
        "rmse_regmodel = np.sqrt(mean_squared_error(y_test, reg_model.predict(X_test)))\n",
        "rmse_decmodel = np.sqrt(mean_squared_error(y_test, dec_tree.predict(X_test)))\n",
        "rmse_bagregmodel = np.sqrt(mean_squared_error(y_test, bagreg.predict(X_test)))\n",
        "rmse_rfmodel = np.sqrt(mean_squared_error(y_test, rf.predict(X_test)))\n",
        "\n",
        "print('Regression Model RMSE:', rmse_regmodel)\n",
        "print('Decision Tree Model RMSE:', rmse_decmodel)\n",
        "print('Bagged Tree Model RMSE:', rmse_bagregmodel)\n",
        "print('Random Forest Model RMSE:', rmse_rfmodel)"
      ],
      "execution_count": 43,
      "outputs": [
        {
          "output_type": "stream",
          "name": "stdout",
          "text": [
            "Regression Model RMSE: 1093.8512397475317\n",
            "Decision Tree Model RMSE: 1499.1146529426574\n",
            "Bagged Tree Model RMSE: 1111.6850590435618\n",
            "Random Forest Model RMSE: 1083.8949762688858\n"
          ]
        }
      ]
    },
    {
      "cell_type": "markdown",
      "metadata": {
        "id": "QB3I2D96eebz"
      },
      "source": [
        "3. Overall, which model do you recommend?\n",
        "\n",
        "For this data, I would recommend using the Random Forest model because it has the lowest RMSE and highest R2 Test scores."
      ]
    }
  ]
}